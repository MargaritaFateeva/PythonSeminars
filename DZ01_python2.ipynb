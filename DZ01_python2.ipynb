{
  "nbformat": 4,
  "nbformat_minor": 0,
  "metadata": {
    "colab": {
      "provenance": [],
      "authorship_tag": "ABX9TyNAIn2fPolIpS02Hh5H9eMG",
      "include_colab_link": true
    },
    "kernelspec": {
      "name": "python3",
      "display_name": "Python 3"
    },
    "language_info": {
      "name": "python"
    }
  },
  "cells": [
    {
      "cell_type": "markdown",
      "metadata": {
        "id": "view-in-github",
        "colab_type": "text"
      },
      "source": [
        "<a href=\"https://colab.research.google.com/github/MargaritaFateeva/PythonSeminars/blob/main/DZ01_python2.ipynb\" target=\"_parent\"><img src=\"https://colab.research.google.com/assets/colab-badge.svg\" alt=\"Open In Colab\"/></a>"
      ]
    },
    {
      "cell_type": "markdown",
      "source": [
        "##Задача 2\n",
        "###На складе лежат разные фрукты в разном количестве. Нужно написать функцию, которая на вход принимает любое количество названий фруктов и их количество, а возвращает общее количество фруктов на складе"
      ],
      "metadata": {
        "id": "Np0IlYS__tFh"
      }
    },
    {
      "cell_type": "code",
      "source": [
        "def total_fruits(**fruit):\n",
        "  summa=list()\n",
        "  result=0\n",
        "  for x in fruit.values():\n",
        "    summa.append(x)\n",
        "  for i in summa:\n",
        "    result+=i\n",
        "  return print(result)"
      ],
      "metadata": {
        "id": "olOFtxh0_9L2"
      },
      "execution_count": 35,
      "outputs": []
    },
    {
      "cell_type": "code",
      "source": [
        "total_fruits(banana=5, mango=7, apple=8)"
      ],
      "metadata": {
        "colab": {
          "base_uri": "https://localhost:8080/"
        },
        "id": "qIab9ERiIEpT",
        "outputId": "bf7cb406-ed29-454a-bdd5-02698ce973a7"
      },
      "execution_count": 34,
      "outputs": [
        {
          "output_type": "stream",
          "name": "stdout",
          "text": [
            "20\n"
          ]
        }
      ]
    },
    {
      "cell_type": "markdown",
      "source": [
        "##Задача 3\n",
        "###Дан список с затратами на рекламу. Но в данных есть ошибки, некоторые затраты имеют отрицательную величину. Удалите такие значения из списка и посчитайте суммарные затраты \n",
        "###[100, 125, -90, 345, 655, -1, 0, 200]\n",
        "###Используйте list comprehensions\n"
      ],
      "metadata": {
        "id": "YPyozAZrIc0f"
      }
    },
    {
      "cell_type": "code",
      "source": [
        "costs=[100, 125, -90, 345, 655, -1, 0, 200]\n",
        "advertising=[i for i in costs if i>0]\n",
        "print(advertising)\n",
        "result = 0\n",
        "for n in advertising:\n",
        "  result+=n\n",
        "print(result)"
      ],
      "metadata": {
        "colab": {
          "base_uri": "https://localhost:8080/"
        },
        "id": "DNdaJDZvI7Rw",
        "outputId": "bbeabd2f-635d-4367-edbc-f780a686a44f"
      },
      "execution_count": 36,
      "outputs": [
        {
          "output_type": "stream",
          "name": "stdout",
          "text": [
            "[100, 125, 345, 655, 200]\n",
            "1425\n"
          ]
        }
      ]
    },
    {
      "cell_type": "markdown",
      "source": [
        "##Задача 4\n",
        "##Даны два списка.\n",
        "##Дата покупки\n",
        "##['2021-09-14', '2021-12-15', '2021-09-08', '2021-12-05', '2021-10-09', '2021-09-30', '2021-12-22', '2021-11-29', '2021-12-24', '2021-11-26', '2021-10-27', '2021-12-18', '2021-11-09', '2021-11-23', '2021-09-27', '2021-10-02', '2021-12-27', '2021-09-20', '2021-12-13', '2021-11-01', '2021-11-09', '2021-12-06', '2021-12-08', '2021-10-09', '2021-10-31', '2021-09-30', '2021-11-09', '2021-12-13', '2021-10-26', '2021-12-09']\n",
        "##Суммы покупок по датам\n",
        "##[1270, 8413, 9028, 3703, 5739, 4095, 295, 4944, 5723, 3701, 4471, 651, 7037, 4274, 6275, 4988, 6930, 2971, 6592, 2004, 2822, 519, 3406, 2732, 5015, 2008, 316, 6333, 5700, 2887]\n",
        "###4.1 Найдите, какая выручка у компании в ноябре \n",
        "###Используйте list comprehensions"
      ],
      "metadata": {
        "id": "Yn8TTeSTMh0a"
      }
    },
    {
      "cell_type": "code",
      "source": [
        "from datetime import datetime, date\n",
        "date_buy=['2021-09-14', '2021-12-15', '2021-09-08', '2021-12-05', '2021-10-09', '2021-09-30', '2021-12-22', '2021-11-29', '2021-12-24', '2021-11-26', '2021-10-27', '2021-12-18', '2021-11-09', '2021-11-23', '2021-09-27', '2021-10-02', '2021-12-27', '2021-09-20', '2021-12-13', '2021-11-01', '2021-11-09', '2021-12-06', '2021-12-08', '2021-10-09', '2021-10-31', '2021-09-30', '2021-11-09', '2021-12-13', '2021-10-26', '2021-12-09']\n",
        "sum_buy=[1270, 8413, 9028, 3703, 5739, 4095, 295, 4944, 5723, 3701, 4471, 651, 7037, 4274, 6275, 4988, 6930, 2971, 6592, 2004, 2822, 519, 3406, 2732, 5015, 2008, 316, 6333, 5700, 2887]\n",
        "print(len(date_buy))\n",
        "print(len(sum_buy))\n",
        "start_date = date(2021, 11, 1)\n",
        "end_date = date(2021, 11, 30)\n",
        "\n",
        "dict_buy = {i: j for i, j in zip(date_buy, sum_buy)}\n",
        "print(dict_buy)\n",
        "print(f'!?словарь-{len(dict_buy)}')\n",
        "dict_nov=dict()\n",
        "for x, y in dict_buy.items():\n",
        "  if datetime.strptime(x,'%Y-%m-%d').date()>=start_date and datetime.strptime(x,'%Y-%m-%d').date()<=end_date:\n",
        "    dict_nov[x]=y\n",
        "    print(x, y)\n",
        "print(dict_nov)\n",
        "november_tr=list()\n",
        "# for x in dict_nov.values():\n",
        "#     november_tr.append(x)\n",
        "november_tr=[x for x in dict_nov.values()]\n",
        "print(november_tr)\n",
        "result=0\n",
        "for i in november_tr:\n",
        "    result+=i\n",
        "print(result)"
      ],
      "metadata": {
        "colab": {
          "base_uri": "https://localhost:8080/"
        },
        "id": "dIYffIJGNrt6",
        "outputId": "636b6134-e8b3-49a1-f0eb-0a9073e5176c"
      },
      "execution_count": 39,
      "outputs": [
        {
          "output_type": "stream",
          "name": "stdout",
          "text": [
            "30\n",
            "30\n",
            "{'2021-09-14': 1270, '2021-12-15': 8413, '2021-09-08': 9028, '2021-12-05': 3703, '2021-10-09': 2732, '2021-09-30': 2008, '2021-12-22': 295, '2021-11-29': 4944, '2021-12-24': 5723, '2021-11-26': 3701, '2021-10-27': 4471, '2021-12-18': 651, '2021-11-09': 316, '2021-11-23': 4274, '2021-09-27': 6275, '2021-10-02': 4988, '2021-12-27': 6930, '2021-09-20': 2971, '2021-12-13': 6333, '2021-11-01': 2004, '2021-12-06': 519, '2021-12-08': 3406, '2021-10-31': 5015, '2021-10-26': 5700, '2021-12-09': 2887}\n",
            "!?словарь-25\n",
            "2021-11-29 4944\n",
            "2021-11-26 3701\n",
            "2021-11-09 316\n",
            "2021-11-23 4274\n",
            "2021-11-01 2004\n",
            "{'2021-11-29': 4944, '2021-11-26': 3701, '2021-11-09': 316, '2021-11-23': 4274, '2021-11-01': 2004}\n",
            "[4944, 3701, 316, 4274, 2004]\n",
            "15239\n"
          ]
        }
      ]
    },
    {
      "cell_type": "markdown",
      "source": [
        "###4.2 Найдите выручку компании в зависимости от месяца\n",
        "###Для этого напишите функцию, которая на вход принимает список с датами и список с выручкой, а на выходе словарь, где ключи - это месяцы, а значения - это выручка.\n",
        "###Используйте аннотирование типов."
      ],
      "metadata": {
        "id": "0-3riKacNgFC"
      }
    },
    {
      "cell_type": "code",
      "source": [
        "from traitlets.traitlets import Integer\n",
        "def mounth_revenue (mounth:list, revenue: list, find_mounth: Integer):\n",
        "  list_mounth=list()\n",
        "  for i in date_buy:\n",
        "    i=datetime.strptime(i,'%Y-%m-%d').date()\n",
        "    list_mounth.append(i.month)\n",
        "  print(list_mounth)\n",
        "  print(len(list_mounth))\n",
        "\n",
        "  # dict_1 = {i: j for i, j in zip(list_mounth, revenue)}\n",
        "  # print(dict_1)\n",
        "  print(len(revenue))\n",
        "\n",
        "  dict_2 = {list_mounth[i]: revenue[i] for i in range(len(list_mounth))}\n",
        "  print(dict_2)\n",
        "  print(len(dict_2))\n",
        "  print(dict_2.get(find_mounth))"
      ],
      "metadata": {
        "id": "hceA-DQlX-Cp"
      },
      "execution_count": 31,
      "outputs": []
    },
    {
      "cell_type": "code",
      "source": [
        "mounth_revenue (date_buy, sum_buy, 9)"
      ],
      "metadata": {
        "colab": {
          "base_uri": "https://localhost:8080/"
        },
        "id": "IxX_3PKvJ2_M",
        "outputId": "c43dcbb0-2201-4019-d51c-a65c4ad58fbe"
      },
      "execution_count": 41,
      "outputs": [
        {
          "output_type": "stream",
          "name": "stdout",
          "text": [
            "[9, 12, 9, 12, 10, 9, 12, 11, 12, 11, 10, 12, 11, 11, 9, 10, 12, 9, 12, 11, 11, 12, 12, 10, 10, 9, 11, 12, 10, 12]\n",
            "30\n",
            "30\n",
            "{9: 2008, 12: 2887, 10: 5700, 11: 316}\n",
            "4\n",
            "2008\n"
          ]
        }
      ]
    }
  ]
}